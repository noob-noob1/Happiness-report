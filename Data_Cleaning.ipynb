{
 "cells": [
  {
   "cell_type": "code",
   "execution_count": 70,
   "metadata": {},
   "outputs": [],
   "source": [
    "import pandas as pd\n",
    "import numpy as np"
   ]
  },
  {
   "cell_type": "code",
   "execution_count": 71,
   "metadata": {},
   "outputs": [],
   "source": [
    "World_happiness= pd.read_csv('World Happiness Report.csv')"
   ]
  },
  {
   "cell_type": "code",
   "execution_count": 72,
   "metadata": {},
   "outputs": [
    {
     "data": {
      "text/plain": [
       "(2199, 13)"
      ]
     },
     "execution_count": 72,
     "metadata": {},
     "output_type": "execute_result"
    }
   ],
   "source": [
    "World_happiness.shape"
   ]
  },
  {
   "cell_type": "code",
   "execution_count": 73,
   "metadata": {},
   "outputs": [
    {
     "name": "stdout",
     "output_type": "stream",
     "text": [
      "<class 'pandas.core.frame.DataFrame'>\n",
      "RangeIndex: 2199 entries, 0 to 2198\n",
      "Data columns (total 13 columns):\n",
      " #   Column                             Non-Null Count  Dtype  \n",
      "---  ------                             --------------  -----  \n",
      " 0   Country Name                       2199 non-null   object \n",
      " 1   Regional Indicator                 2087 non-null   object \n",
      " 2   Year                               2199 non-null   int64  \n",
      " 3   Life Ladder                        2199 non-null   float64\n",
      " 4   Log GDP Per Capita                 2179 non-null   float64\n",
      " 5   Social Support                     2186 non-null   float64\n",
      " 6   Healthy Life Expectancy At Birth   2145 non-null   float64\n",
      " 7   Freedom To Make Life Choices       2166 non-null   float64\n",
      " 8   Generosity                         2126 non-null   float64\n",
      " 9   Perceptions Of Corruption          2083 non-null   float64\n",
      " 10  Positive Affect                    2175 non-null   float64\n",
      " 11  Negative Affect                    2183 non-null   float64\n",
      " 12  Confidence In National Government  1838 non-null   float64\n",
      "dtypes: float64(10), int64(1), object(2)\n",
      "memory usage: 223.5+ KB\n"
     ]
    }
   ],
   "source": [
    "World_happiness.info()"
   ]
  },
  {
   "attachments": {},
   "cell_type": "markdown",
   "metadata": {},
   "source": [
    "### Removing spaces from column names so that we access to dotted calls "
   ]
  },
  {
   "cell_type": "code",
   "execution_count": 74,
   "metadata": {},
   "outputs": [],
   "source": [
    "World_happiness.columns = World_happiness.columns.str.replace(' ', '_')"
   ]
  },
  {
   "attachments": {},
   "cell_type": "markdown",
   "metadata": {},
   "source": [
    "Changing data types"
   ]
  },
  {
   "cell_type": "code",
   "execution_count": 75,
   "metadata": {},
   "outputs": [],
   "source": [
    "World_happiness.Year= World_happiness.Year.astype(\"int\")"
   ]
  },
  {
   "attachments": {},
   "cell_type": "markdown",
   "metadata": {},
   "source": [
    "### Dealing with NaNs by filling in mean values as to not lose important data"
   ]
  },
  {
   "cell_type": "code",
   "execution_count": 76,
   "metadata": {},
   "outputs": [],
   "source": [
    "#Taking the mean of each column\n",
    "GDP_mean= World_happiness.Log_GDP_Per_Capita.mean()\n",
    "Social_support= World_happiness.Social_Support.mean()\n",
    "life_expectancy= World_happiness.Healthy_Life_Expectancy_At_Birth.mean()\n",
    "freedom= World_happiness.Freedom_To_Make_Life_Choices.mean()\n",
    "generosity= World_happiness.Generosity.mean()\n",
    "pereception= World_happiness.Perceptions_Of_Corruption.mean()\n",
    "positive= World_happiness.Positive_Affect.mean()\n",
    "negative= World_happiness.Negative_Affect.mean()\n",
    "confidence= World_happiness.Confidence_In_National_Government.mean()\n"
   ]
  },
  {
   "cell_type": "code",
   "execution_count": 77,
   "metadata": {},
   "outputs": [],
   "source": [
    "#Replacing above means\n",
    "World_happiness.Log_GDP_Per_Capita.replace(np.NaN, GDP_mean, inplace=True)\n",
    "World_happiness.Social_Support.replace(np.NaN, Social_support, inplace=True)\n",
    "World_happiness.Healthy_Life_Expectancy_At_Birth.replace(np.NaN, life_expectancy, inplace=True)\n",
    "World_happiness.Freedom_To_Make_Life_Choices.replace(np.NaN, freedom, inplace=True)\n",
    "World_happiness.Generosity.replace(np.NaN, generosity, inplace=True)\n",
    "World_happiness.Perceptions_Of_Corruption.replace(np.NaN, pereception, inplace=True)\n",
    "World_happiness.Positive_Affect.replace(np.NaN, positive, inplace=True)\n",
    "World_happiness.Negative_Affect.replace(np.NaN, negative, inplace=True)\n",
    "World_happiness.Confidence_In_National_Government.replace(np.NaN, confidence, inplace=True)\n"
   ]
  },
  {
   "attachments": {},
   "cell_type": "markdown",
   "metadata": {},
   "source": [
    "Dealing with String NaNs by replacing them with \"Not Specified\" "
   ]
  },
  {
   "cell_type": "code",
   "execution_count": 78,
   "metadata": {},
   "outputs": [],
   "source": [
    "World_happiness.Regional_Indicator.replace(np.NaN, \"Not specified\", inplace=True)"
   ]
  },
  {
   "cell_type": "code",
   "execution_count": 82,
   "metadata": {},
   "outputs": [],
   "source": [
    "World_happiness.to_csv(\"cleaned_version\", index=False)"
   ]
  }
 ],
 "metadata": {
  "kernelspec": {
   "display_name": "venv2",
   "language": "python",
   "name": "python3"
  },
  "language_info": {
   "codemirror_mode": {
    "name": "ipython",
    "version": 3
   },
   "file_extension": ".py",
   "mimetype": "text/x-python",
   "name": "python",
   "nbconvert_exporter": "python",
   "pygments_lexer": "ipython3",
   "version": "3.11.1"
  },
  "orig_nbformat": 4
 },
 "nbformat": 4,
 "nbformat_minor": 2
}
